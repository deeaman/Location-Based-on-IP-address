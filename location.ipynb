{
 "cells": [
  {
   "cell_type": "markdown",
   "id": "bfabafe4",
   "metadata": {},
   "source": [
    "# Check Your  location  based on IP address"
   ]
  },
  {
   "cell_type": "code",
   "execution_count": 1,
   "id": "bd1e180f",
   "metadata": {},
   "outputs": [
    {
     "name": "stdout",
     "output_type": "stream",
     "text": [
      "Requirement already satisfied: requests in c:\\users\\dell\\anaconda3\\lib\\site-packages (2.26.0)\n",
      "Requirement already satisfied: charset-normalizer~=2.0.0 in c:\\users\\dell\\anaconda3\\lib\\site-packages (from requests) (2.0.4)\n",
      "Requirement already satisfied: idna<4,>=2.5 in c:\\users\\dell\\anaconda3\\lib\\site-packages (from requests) (3.2)\n",
      "Requirement already satisfied: urllib3<1.27,>=1.21.1 in c:\\users\\dell\\anaconda3\\lib\\site-packages (from requests) (1.26.7)\n",
      "Requirement already satisfied: certifi>=2017.4.17 in c:\\users\\dell\\anaconda3\\lib\\site-packages (from requests) (2021.10.8)\n",
      "Note: you may need to restart the kernel to use updated packages.\n"
     ]
    }
   ],
   "source": [
    "pip install requests"
   ]
  },
  {
   "cell_type": "code",
   "execution_count": 2,
   "id": "93c102c9",
   "metadata": {},
   "outputs": [
    {
     "name": "stdout",
     "output_type": "stream",
     "text": [
      "Collecting folium\n",
      "  Downloading folium-0.14.0-py2.py3-none-any.whl (102 kB)\n",
      "Collecting branca>=0.6.0\n",
      "  Downloading branca-0.6.0-py3-none-any.whl (24 kB)\n",
      "Requirement already satisfied: requests in c:\\users\\dell\\anaconda3\\lib\\site-packages (from folium) (2.26.0)\n",
      "Requirement already satisfied: numpy in c:\\users\\dell\\anaconda3\\lib\\site-packages (from folium) (1.20.3)\n",
      "Requirement already satisfied: jinja2>=2.9 in c:\\users\\dell\\anaconda3\\lib\\site-packages (from folium) (2.11.3)\n",
      "Requirement already satisfied: MarkupSafe>=0.23 in c:\\users\\dell\\anaconda3\\lib\\site-packages (from jinja2>=2.9->folium) (1.1.1)\n",
      "Requirement already satisfied: charset-normalizer~=2.0.0 in c:\\users\\dell\\anaconda3\\lib\\site-packages (from requests->folium) (2.0.4)\n",
      "Requirement already satisfied: certifi>=2017.4.17 in c:\\users\\dell\\anaconda3\\lib\\site-packages (from requests->folium) (2021.10.8)\n",
      "Requirement already satisfied: idna<4,>=2.5 in c:\\users\\dell\\anaconda3\\lib\\site-packages (from requests->folium) (3.2)\n",
      "Requirement already satisfied: urllib3<1.27,>=1.21.1 in c:\\users\\dell\\anaconda3\\lib\\site-packages (from requests->folium) (1.26.7)\n",
      "Installing collected packages: branca, folium\n",
      "Successfully installed branca-0.6.0 folium-0.14.0\n",
      "Note: you may need to restart the kernel to use updated packages.\n"
     ]
    }
   ],
   "source": [
    "pip install folium"
   ]
  },
  {
   "cell_type": "code",
   "execution_count": 3,
   "id": "507c4058",
   "metadata": {},
   "outputs": [],
   "source": [
    "import requests"
   ]
  },
  {
   "cell_type": "code",
   "execution_count": 4,
   "id": "6c964f60",
   "metadata": {},
   "outputs": [],
   "source": [
    "res = requests.get('https://ipinfo.io/')"
   ]
  },
  {
   "cell_type": "code",
   "execution_count": 5,
   "id": "b401da92",
   "metadata": {},
   "outputs": [],
   "source": [
    "data = res.json()"
   ]
  },
  {
   "cell_type": "code",
   "execution_count": 6,
   "id": "9be50e4e",
   "metadata": {},
   "outputs": [
    {
     "name": "stdout",
     "output_type": "stream",
     "text": [
      "{'ip': '210.89.61.49', 'city': 'Ludhiāna', 'region': 'Punjab', 'country': 'IN', 'loc': '30.9120,75.8538', 'org': 'AS133661 Netplus Broadband Services Private Limited', 'postal': '141120', 'timezone': 'Asia/Kolkata', 'readme': 'https://ipinfo.io/missingauth'}\n"
     ]
    }
   ],
   "source": [
    "print(data)"
   ]
  },
  {
   "cell_type": "code",
   "execution_count": 7,
   "id": "ff985463",
   "metadata": {},
   "outputs": [],
   "source": [
    "location = data['loc'].split(',')"
   ]
  },
  {
   "cell_type": "code",
   "execution_count": 23,
   "id": "9af42c25",
   "metadata": {},
   "outputs": [],
   "source": [
    "lat = float(location[0])\n",
    "log = float(location[1])"
   ]
  },
  {
   "cell_type": "code",
   "execution_count": 24,
   "id": "3556e5c6",
   "metadata": {},
   "outputs": [
    {
     "data": {
      "text/plain": [
       "30.912"
      ]
     },
     "execution_count": 24,
     "metadata": {},
     "output_type": "execute_result"
    }
   ],
   "source": [
    "lat"
   ]
  },
  {
   "cell_type": "code",
   "execution_count": 25,
   "id": "5d3a5f54",
   "metadata": {},
   "outputs": [
    {
     "data": {
      "text/plain": [
       "75.8538"
      ]
     },
     "execution_count": 25,
     "metadata": {},
     "output_type": "execute_result"
    }
   ],
   "source": [
    "log"
   ]
  },
  {
   "cell_type": "code",
   "execution_count": 26,
   "id": "8950c833",
   "metadata": {},
   "outputs": [],
   "source": [
    "import folium as fl"
   ]
  },
  {
   "cell_type": "code",
   "execution_count": 27,
   "id": "24e47a60",
   "metadata": {},
   "outputs": [],
   "source": [
    "#  creating a feature group\n",
    "fg = fl.FeatureGroup(\"My Map\")\n",
    "# Add child to this layer\n",
    "fg.add_child(fl.GeoJson(data =(open('india_states.json','r',encoding = 'utf-8-sig').read())))\n",
    "fg.add_child(fl.Marker(location =[lat,log],popup=\"This is my location.\"))\n",
    "m = fl.Map(location=[lat,log],zoom_start=7)\n",
    "m.add_child(fg)\n",
    "# Save this as HTML and run it.\n",
    "m.save(\"1.html\")\n"
   ]
  },
  {
   "cell_type": "code",
   "execution_count": null,
   "id": "0e2ece2a",
   "metadata": {},
   "outputs": [],
   "source": []
  }
 ],
 "metadata": {
  "kernelspec": {
   "display_name": "Python 3 (ipykernel)",
   "language": "python",
   "name": "python3"
  },
  "language_info": {
   "codemirror_mode": {
    "name": "ipython",
    "version": 3
   },
   "file_extension": ".py",
   "mimetype": "text/x-python",
   "name": "python",
   "nbconvert_exporter": "python",
   "pygments_lexer": "ipython3",
   "version": "3.9.7"
  }
 },
 "nbformat": 4,
 "nbformat_minor": 5
}
